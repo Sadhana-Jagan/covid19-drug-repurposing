{
  "cells": [
    {
      "cell_type": "code",
      "execution_count": 13,
      "metadata": {
        "id": "J2sR7TeNyAoZ"
      },
      "outputs": [],
      "source": [
        "import numpy as np\n",
        "import pandas as pd\n",
        "import matplotlib.pyplot as plt\n",
        "import networkx as nx\n",
        "import seaborn as sns\n",
        "%matplotlib inline"
      ]
    },
    {
      "cell_type": "code",
      "execution_count": 14,
      "metadata": {
        "id": "f8eMrXlUyIbC"
      },
      "outputs": [],
      "source": [
        "drug_moa_df = pd.read_csv('MOA_Tier1/Drug-MOA-HC.csv')\n",
        "drug_indication_df = pd.read_csv('Indication_Tier1/Drug-Indication-HC.csv')\n",
        "drug_pathway_df = pd.read_csv('Pathway_Tier1/Drug-Pathway-HC.csv')\n",
        "drug_target_df = pd.read_csv('Target_Tier1/Drug-Target-HC.csv')\n",
        "drug_df = pd.read_csv('drug_nodes_CT.csv')"
      ]
    },
    {
      "cell_type": "code",
      "execution_count": 15,
      "metadata": {
        "id": "K8B9Hqfl8dgb"
      },
      "outputs": [],
      "source": [
        "def make_DDR1(df):\n",
        "  labels = df['cluster-label'].to_numpy()\n",
        "  repeat_labels = np.repeat(labels.T,438, axis=0).reshape(438,438)\n",
        "  proximity_matrix = (repeat_labels == repeat_labels.T).astype(int)\n",
        "  return proximity_matrix"
      ]
    },
    {
      "cell_type": "code",
      "execution_count": 16,
      "metadata": {},
      "outputs": [],
      "source": [
        "drug_indication_df = drug_indication_df[drug_indication_df['drug']!= 'gramicidin ']\n",
        "drug_indication_df = drug_indication_df.reset_index(drop=True)  # Reset index after dropping\n"
      ]
    },
    {
      "cell_type": "code",
      "execution_count": 17,
      "metadata": {
        "id": "sqmqcPUR-ktr"
      },
      "outputs": [],
      "source": [
        "df_moa_matrix = make_DDR1(drug_moa_df)\n",
        "df_target_matrix = make_DDR1(drug_target_df)\n",
        "df_path_matrix = make_DDR1(drug_pathway_df)\n",
        "df_ind_matrix = make_DDR1(drug_indication_df)"
      ]
    },
    {
      "cell_type": "code",
      "execution_count": 18,
      "metadata": {
        "id": "8yB3sNc0R_mV"
      },
      "outputs": [],
      "source": [
        "df_moa = pd.DataFrame(df_moa_matrix)\n",
        "df_tar = pd.DataFrame(df_target_matrix)\n",
        "df_path = pd.DataFrame(df_path_matrix)\n",
        "df_ind = pd.DataFrame(df_ind_matrix)"
      ]
    },
    {
      "cell_type": "code",
      "execution_count": 19,
      "metadata": {
        "colab": {
          "base_uri": "https://localhost:8080/"
        },
        "id": "2cDdm_c9_gxa",
        "outputId": "d39dd268-4881-4c65-d8f5-e229ebd308f5"
      },
      "outputs": [
        {
          "data": {
            "text/plain": [
              "array([[1, 1, 1, ..., 0, 0, 0],\n",
              "       [1, 1, 1, ..., 0, 0, 0],\n",
              "       [1, 1, 1, ..., 0, 0, 0],\n",
              "       ...,\n",
              "       [0, 0, 0, ..., 0, 0, 0],\n",
              "       [0, 0, 0, ..., 0, 0, 0],\n",
              "       [0, 0, 0, ..., 0, 0, 0]], shape=(438, 438))"
            ]
          },
          "execution_count": 19,
          "metadata": {},
          "output_type": "execute_result"
        }
      ],
      "source": [
        "DDR = np.logical_or(np.logical_or(np.logical_or(df_moa_matrix,df_target_matrix),df_path_matrix),df_ind_matrix)\n",
        "DDR = DDR.astype(int)\n",
        "DDR"
      ]
    },
    {
      "cell_type": "code",
      "execution_count": 20,
      "metadata": {
        "id": "vyINCDB9SK46"
      },
      "outputs": [],
      "source": [
        "df_DDR = pd.DataFrame(DDR)\n",
        "df_DDR.to_csv(\"DDR-HC-new.csv\")"
      ]
    },
    {
      "cell_type": "code",
      "execution_count": 21,
      "metadata": {
        "colab": {
          "base_uri": "https://localhost:8080/"
        },
        "id": "Ov92Wz0ow7r7",
        "outputId": "48371073-9c0a-4bb2-aae5-0e18c21a10f1"
      },
      "outputs": [
        {
          "name": "stdout",
          "output_type": "stream",
          "text": [
            "0.9566105794291195\n"
          ]
        }
      ],
      "source": [
        "sparr = df_DDR.apply(pd.arrays.SparseArray)\n",
        "sparsity = 1 - sparr.sparse.density\n",
        "print(sparsity)"
      ]
    },
    {
      "cell_type": "code",
      "execution_count": null,
      "metadata": {
        "id": "ubHOmFtpm4-t"
      },
      "outputs": [],
      "source": [
        "#!apt -qqq install graphviz\n",
        "#!apt install libgraphviz-dev\n",
        "#!pip install pygraphviz"
      ]
    },
    {
      "cell_type": "code",
      "execution_count": 11,
      "metadata": {
        "id": "mjlWxapMLH73"
      },
      "outputs": [
        {
          "ename": "ImportError",
          "evalue": "requires pygraphviz http://pygraphviz.github.io/",
          "output_type": "error",
          "traceback": [
            "\u001b[31m---------------------------------------------------------------------------\u001b[39m",
            "\u001b[31mModuleNotFoundError\u001b[39m                       Traceback (most recent call last)",
            "\u001b[36mFile \u001b[39m\u001b[32m~/drug-repurposing-covid19/covid19/lib/python3.13/site-packages/networkx/drawing/nx_agraph.py:135\u001b[39m, in \u001b[36mto_agraph\u001b[39m\u001b[34m(N)\u001b[39m\n\u001b[32m    134\u001b[39m \u001b[38;5;28;01mtry\u001b[39;00m:\n\u001b[32m--> \u001b[39m\u001b[32m135\u001b[39m     \u001b[38;5;28;01mimport\u001b[39;00m\u001b[38;5;250m \u001b[39m\u001b[34;01mpygraphviz\u001b[39;00m\n\u001b[32m    136\u001b[39m \u001b[38;5;28;01mexcept\u001b[39;00m \u001b[38;5;167;01mImportError\u001b[39;00m \u001b[38;5;28;01mas\u001b[39;00m err:\n",
            "\u001b[31mModuleNotFoundError\u001b[39m: No module named 'pygraphviz'",
            "\nThe above exception was the direct cause of the following exception:\n",
            "\u001b[31mImportError\u001b[39m                               Traceback (most recent call last)",
            "\u001b[36mCell\u001b[39m\u001b[36m \u001b[39m\u001b[32mIn[11]\u001b[39m\u001b[32m, line 3\u001b[39m\n\u001b[32m      1\u001b[39m \u001b[38;5;28;01mfrom\u001b[39;00m\u001b[38;5;250m \u001b[39m\u001b[34;01mnetworkx\u001b[39;00m\u001b[34;01m.\u001b[39;00m\u001b[34;01mdrawing\u001b[39;00m\u001b[34;01m.\u001b[39;00m\u001b[34;01mnx_agraph\u001b[39;00m\u001b[38;5;250m \u001b[39m\u001b[38;5;28;01mimport\u001b[39;00m graphviz_layout, to_agraph\n\u001b[32m      2\u001b[39m g = nx.from_pandas_adjacency(df_DDR)\n\u001b[32m----> \u001b[39m\u001b[32m3\u001b[39m A = \u001b[43mnx\u001b[49m\u001b[43m.\u001b[49m\u001b[43mnx_agraph\u001b[49m\u001b[43m.\u001b[49m\u001b[43mto_agraph\u001b[49m\u001b[43m(\u001b[49m\u001b[43mg\u001b[49m\u001b[43m)\u001b[49m  \u001b[38;5;66;03m# convert to a graphviz graph\u001b[39;00m\n\u001b[32m      4\u001b[39m A.node_attr.update(width=\u001b[33m'\u001b[39m\u001b[33m1.5\u001b[39m\u001b[33m'\u001b[39m,height = \u001b[33m'\u001b[39m\u001b[33m1.5\u001b[39m\u001b[33m'\u001b[39m,color=\u001b[33m'\u001b[39m\u001b[33mblack\u001b[39m\u001b[33m'\u001b[39m,fontsize=\u001b[33m'\u001b[39m\u001b[33m32\u001b[39m\u001b[33m'\u001b[39m)\n\u001b[32m      5\u001b[39m A.edge_attr.update(\u001b[38;5;28mlen\u001b[39m=\u001b[33m'\u001b[39m\u001b[33m5.0\u001b[39m\u001b[33m'\u001b[39m,color=\u001b[33m'\u001b[39m\u001b[33mblue\u001b[39m\u001b[33m'\u001b[39m)\n",
            "\u001b[36mFile \u001b[39m\u001b[32m~/drug-repurposing-covid19/covid19/lib/python3.13/site-packages/networkx/drawing/nx_agraph.py:137\u001b[39m, in \u001b[36mto_agraph\u001b[39m\u001b[34m(N)\u001b[39m\n\u001b[32m    135\u001b[39m     \u001b[38;5;28;01mimport\u001b[39;00m\u001b[38;5;250m \u001b[39m\u001b[34;01mpygraphviz\u001b[39;00m\n\u001b[32m    136\u001b[39m \u001b[38;5;28;01mexcept\u001b[39;00m \u001b[38;5;167;01mImportError\u001b[39;00m \u001b[38;5;28;01mas\u001b[39;00m err:\n\u001b[32m--> \u001b[39m\u001b[32m137\u001b[39m     \u001b[38;5;28;01mraise\u001b[39;00m \u001b[38;5;167;01mImportError\u001b[39;00m(\u001b[33m\"\u001b[39m\u001b[33mrequires pygraphviz http://pygraphviz.github.io/\u001b[39m\u001b[33m\"\u001b[39m) \u001b[38;5;28;01mfrom\u001b[39;00m\u001b[38;5;250m \u001b[39m\u001b[34;01merr\u001b[39;00m\n\u001b[32m    138\u001b[39m directed = N.is_directed()\n\u001b[32m    139\u001b[39m strict = nx.number_of_selfloops(N) == \u001b[32m0\u001b[39m \u001b[38;5;129;01mand\u001b[39;00m \u001b[38;5;129;01mnot\u001b[39;00m N.is_multigraph()\n",
            "\u001b[31mImportError\u001b[39m: requires pygraphviz http://pygraphviz.github.io/"
          ]
        }
      ],
      "source": [
        "from networkx.drawing.nx_agraph import graphviz_layout, to_agraph\n",
        "g = nx.from_pandas_adjacency(df_DDR)\n",
        "A = nx.nx_agraph.to_agraph(g)  # convert to a graphviz graph\n",
        "A.node_attr.update(width='1.5',height = '1.5',color='black',fontsize='32')\n",
        "A.edge_attr.update(len='5.0',color='blue')\n",
        "A.graph_attr.update(overlap='false')\n",
        "A.layout()  # neato layout\n",
        "A.draw('DDRtry.png')  "
      ]
    },
    {
      "cell_type": "code",
      "execution_count": null,
      "metadata": {
        "id": "xIfU1Bog4FDd"
      },
      "outputs": [],
      "source": [
        "g = nx.from_pandas_adjacency(df_moa)\n",
        "A = nx.nx_agraph.to_agraph(g)  # convert to a graphviz graph\n",
        "A.node_attr.update(width='1.5',height = '1.5',color='black',fontsize='32')\n",
        "A.edge_attr.update(len='5.0',color='blue')\n",
        "A.graph_attr.update(overlap='false')\n",
        "A.layout()  # neato layout\n",
        "A.draw('DDR_moa.png') "
      ]
    },
    {
      "cell_type": "code",
      "execution_count": null,
      "metadata": {
        "id": "6Jkj4CNR4avr"
      },
      "outputs": [],
      "source": [
        "g = nx.from_pandas_adjacency(df_tar)\n",
        "A = nx.nx_agraph.to_agraph(g)  # convert to a graphviz graph\n",
        "A.node_attr.update(width='1.5',height = '1.5',color='black',fontsize='32')\n",
        "A.edge_attr.update(len='5.0',color='blue')\n",
        "A.graph_attr.update(overlap='false')\n",
        "A.layout()  # neato layout\n",
        "A.draw('DDR_tar.png') "
      ]
    },
    {
      "cell_type": "code",
      "execution_count": null,
      "metadata": {
        "id": "fEIgw7zE4qNP"
      },
      "outputs": [],
      "source": [
        "g = nx.from_pandas_adjacency(df_path)\n",
        "A = nx.nx_agraph.to_agraph(g)  # convert to a graphviz graph\n",
        "A.node_attr.update(width='1.5',height = '1.5',color='black',fontsize='32')\n",
        "A.edge_attr.update(len='5.0',color='blue')\n",
        "A.graph_attr.update(overlap='false')\n",
        "A.layout()  # neato layout\n",
        "A.draw('DDR_path.png') "
      ]
    },
    {
      "cell_type": "code",
      "execution_count": null,
      "metadata": {
        "id": "ptwGaTML4sqC"
      },
      "outputs": [],
      "source": [
        "g = nx.from_pandas_adjacency(df_ind)\n",
        "A = nx.nx_agraph.to_agraph(g)  # convert to a graphviz graph\n",
        "A.node_attr.update(width='1.5',height = '1.5',color='black',fontsize='32')\n",
        "A.edge_attr.update(len='5.0',color='blue')\n",
        "A.graph_attr.update(overlap='false')\n",
        "A.layout()  # neato layout\n",
        "A.draw('DDR_ind.png') "
      ]
    },
    {
      "cell_type": "code",
      "execution_count": null,
      "metadata": {
        "id": "yIN-gh9C4vmz"
      },
      "outputs": [],
      "source": []
    }
  ],
  "metadata": {
    "colab": {
      "provenance": []
    },
    "kernelspec": {
      "display_name": "Python 3",
      "name": "python3"
    },
    "language_info": {
      "codemirror_mode": {
        "name": "ipython",
        "version": 3
      },
      "file_extension": ".py",
      "mimetype": "text/x-python",
      "name": "python",
      "nbconvert_exporter": "python",
      "pygments_lexer": "ipython3",
      "version": "3.13.2"
    }
  },
  "nbformat": 4,
  "nbformat_minor": 0
}
