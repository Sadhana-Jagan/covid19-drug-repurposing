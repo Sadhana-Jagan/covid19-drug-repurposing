{
  "metadata": {
    "kernelspec": {
      "name": "python3",
      "display_name": "Python 3"
    },
    "language_info": {
      "name": "python",
      "version": "3.10.12",
      "mimetype": "text/x-python",
      "codemirror_mode": {
        "name": "ipython",
        "version": 3
      },
      "pygments_lexer": "ipython3",
      "nbconvert_exporter": "python",
      "file_extension": ".py"
    },
    "colab": {
      "provenance": [],
      "gpuType": "T4"
    },
    "kaggle": {
      "accelerator": "nvidiaTeslaT4",
      "dataSources": [
        {
          "sourceId": 11037106,
          "sourceType": "datasetVersion",
          "datasetId": 6874571
        },
        {
          "sourceId": 11037141,
          "sourceType": "datasetVersion",
          "datasetId": 6874598
        },
        {
          "sourceId": 11037185,
          "sourceType": "datasetVersion",
          "datasetId": 6874632
        }
      ],
      "dockerImageVersionId": 30919,
      "isInternetEnabled": true,
      "language": "python",
      "sourceType": "notebook",
      "isGpuEnabled": true
    },
    "accelerator": "GPU"
  },
  "nbformat_minor": 0,
  "nbformat": 4,
  "cells": [
    {
      "cell_type": "code",
      "source": [
        "import numpy as np\n",
        "import pandas as pd\n",
        "import matplotlib.pyplot as plt\n",
        "import seaborn as sns\n",
        "%matplotlib inline\n",
        "from sklearn.preprocessing import LabelEncoder\n",
        "import warnings\n",
        "from sklearn.preprocessing import MinMaxScaler\n",
        "from sklearn.cluster import KMeans\n",
        "from sklearn.neighbors import NearestNeighbors\n",
        "from sklearn.cluster import DBSCAN\n",
        "from sklearn.cluster import SpectralClustering\n",
        "warnings.filterwarnings('ignore')\n",
        "from sklearn import metrics"
      ],
      "metadata": {
        "id": "zxe_JJZRMIhG",
        "trusted": true,
        "execution": {
          "iopub.status.busy": "2025-03-16T12:39:03.733497Z",
          "iopub.execute_input": "2025-03-16T12:39:03.733847Z",
          "iopub.status.idle": "2025-03-16T12:39:03.740152Z",
          "shell.execute_reply.started": "2025-03-16T12:39:03.733819Z",
          "shell.execute_reply": "2025-03-16T12:39:03.739032Z"
        }
      },
      "outputs": [],
      "execution_count": 1
    },
    {
      "cell_type": "markdown",
      "source": [],
      "metadata": {
        "id": "lZkwvjBXjWQ-"
      }
    },
    {
      "cell_type": "code",
      "source": [
        "data_DDR = '/content/drug_embeddings (13).csv'\n",
        "\n",
        "df_ddr = pd.read_csv(data_DDR)\n",
        "df_ddr = df_ddr.drop(columns=['drug_name'])\n",
        "# Set row indices from 0 to 437\n",
        "df_ddr.index = range(438)\n",
        "\n",
        "# Set column indices from 0 to 15\n",
        "df_ddr.columns = range(16)\n",
        "\n",
        "# Save the updated DataFrame to a new CSV file\n",
        "output_file_path = 'path_to_output_file.csv'  # Replace with your desired output file path\n",
        "df_ddr.to_csv(output_file_path, index=True)\n",
        "\n",
        "print(f\"CSV file with updated indices saved to: {output_file_path}\")\n",
        "\n"
      ],
      "metadata": {
        "id": "mQ5qDo6hhXIA",
        "trusted": true,
        "execution": {
          "iopub.status.busy": "2025-03-16T12:39:03.741642Z",
          "iopub.execute_input": "2025-03-16T12:39:03.741960Z",
          "iopub.status.idle": "2025-03-16T12:39:03.764526Z",
          "shell.execute_reply.started": "2025-03-16T12:39:03.741927Z",
          "shell.execute_reply": "2025-03-16T12:39:03.763739Z"
        },
        "colab": {
          "base_uri": "https://localhost:8080/"
        },
        "outputId": "20631136-eedb-4253-f9bb-dfd367c3ac98"
      },
      "outputs": [
        {
          "output_type": "stream",
          "name": "stdout",
          "text": [
            "CSV file with updated indices saved to: path_to_output_file.csv\n"
          ]
        }
      ],
      "execution_count": 3
    },
    {
      "cell_type": "markdown",
      "source": [
        "## KMeans Clustering"
      ],
      "metadata": {
        "id": "PEoVntIaZOGR"
      }
    },
    {
      "cell_type": "code",
      "source": [
        "\"\"\"def load_data(df):\n",
        "  df2 = df.copy()\n",
        "  y = df2['Unnamed: 0']\n",
        "  cols = df2.columns\n",
        "  ms = MinMaxScaler()\n",
        "  X = ms.fit_transform(df2)\n",
        "  X = pd.DataFrame(X, columns=[cols])\n",
        "  return df2,y,X\n",
        "\"\"\"\n",
        "def load_data(df):\n",
        "    # Drop the 'Unnamed: 0' column if it's an index or unnecessary\n",
        "    df2 = df.copy()\n",
        "    if 'Unnamed: 0' in df2.columns:\n",
        "        y = df2['Unnamed: 0']\n",
        "        df2 = df2.drop(columns=['Unnamed: 0'])  # Drop the column if it's just an index\n",
        "    else:\n",
        "        y = None  # In case 'Unnamed: 0' doesn't exist\n",
        "    cols = df2.columns\n",
        "\n",
        "    # MinMax scaling of the features\n",
        "    ms = MinMaxScaler()\n",
        "    X = ms.fit_transform(df2)\n",
        "    X = pd.DataFrame(X, columns=cols)  # Set the correct columns for the scaled DataFrame\n",
        "\n",
        "    return df2, y, X\n",
        "def k_means_elbow_method(X,title):\n",
        "  cs = []\n",
        "  for i in range(1, 50):\n",
        "      kmeans = KMeans(n_clusters = i, init = 'k-means++', max_iter = 300, n_init = 10, random_state = 0)\n",
        "      kmeans.fit(X)\n",
        "      cs.append(kmeans.inertia_)\n",
        "  plt.plot(range(1, 50), cs)\n",
        "  plt.title('The Elbow Method '+title)\n",
        "  plt.xlabel('Number of clusters')\n",
        "  plt.ylabel('CS')\n",
        "  plt.show()\n",
        "\n",
        "def k_means_clustering(nclusters,X):\n",
        "  kmeans = KMeans(n_clusters=nclusters, random_state=0)\n",
        "  kmeans.fit(X)\n",
        "  kmeans.cluster_centers_\n",
        "  print(kmeans.inertia_)\n",
        "  return kmeans.labels_\n",
        "\n",
        "def make_df(labels,y,name):\n",
        "  df = pd.DataFrame({'node-value':y, 'cluster-label':labels})\n",
        "  #df['drug'] = df2['nodes']\n",
        "  df = df.sort_values('cluster-label')\n",
        "  fileName = '/content/sample_data/HC-128-16' + name\n",
        "  df.to_csv(fileName)\n",
        "  return df"
      ],
      "metadata": {
        "id": "qjr7XRN9QcVB",
        "trusted": true,
        "execution": {
          "iopub.status.busy": "2025-03-16T12:39:03.766002Z",
          "iopub.execute_input": "2025-03-16T12:39:03.766259Z",
          "iopub.status.idle": "2025-03-16T12:39:03.773428Z",
          "shell.execute_reply.started": "2025-03-16T12:39:03.766237Z",
          "shell.execute_reply": "2025-03-16T12:39:03.772492Z"
        }
      },
      "outputs": [],
      "execution_count": 4
    },
    {
      "cell_type": "code",
      "source": [
        "df_ddr,y_ddr,X_ddr = load_data(df_ddr)\n",
        "k_means_elbow_method(X_ddr,'DDR')"
      ],
      "metadata": {
        "colab": {
          "base_uri": "https://localhost:8080/",
          "height": 472
        },
        "id": "F7t76DlEhoUF",
        "outputId": "4ae83710-d353-411c-86ea-e8313ab35f53",
        "trusted": true,
        "execution": {
          "iopub.status.busy": "2025-03-16T12:39:03.774748Z",
          "iopub.execute_input": "2025-03-16T12:39:03.775053Z",
          "iopub.status.idle": "2025-03-16T12:39:07.375322Z",
          "shell.execute_reply.started": "2025-03-16T12:39:03.775022Z",
          "shell.execute_reply": "2025-03-16T12:39:07.374455Z"
        }
      },
      "outputs": [
        {
          "output_type": "display_data",
          "data": {
            "text/plain": [
              "<Figure size 640x480 with 1 Axes>"
            ],
            "image/png": "[encoded data removed]"
          },
          "metadata": {}
        }
      ],
      "execution_count": 5
    },
    {
      "cell_type": "code",
      "source": [
        "label_ddr = k_means_clustering(8,X_ddr)\n",
        "print(metrics.silhouette_score(X_ddr,label_ddr, metric='euclidean'))"
      ],
      "metadata": {
        "colab": {
          "base_uri": "https://localhost:8080/"
        },
        "id": "LygtBeZYiHLy",
        "outputId": "b18be1d9-6b7f-4380-d1d9-e4f1d010ae9a",
        "trusted": true,
        "execution": {
          "iopub.status.busy": "2025-03-16T12:39:07.376215Z",
          "iopub.execute_input": "2025-03-16T12:39:07.376535Z",
          "iopub.status.idle": "2025-03-16T12:39:07.417193Z",
          "shell.execute_reply.started": "2025-03-16T12:39:07.376499Z",
          "shell.execute_reply": "2025-03-16T12:39:07.416359Z"
        }
      },
      "outputs": [
        {
          "output_type": "stream",
          "name": "stdout",
          "text": [
            "30.615225471234996\n",
            "0.3617774030308552\n"
          ]
        }
      ],
      "execution_count": 6
    },
    {
      "cell_type": "code",
      "source": [
        "df_new_ddr = make_df(label_ddr,y_ddr,'-KM.csv')"
      ],
      "metadata": {
        "id": "-Qu7vMDciPhB",
        "trusted": true,
        "execution": {
          "iopub.status.busy": "2025-03-16T12:39:07.418941Z",
          "iopub.execute_input": "2025-03-16T12:39:07.419189Z",
          "iopub.status.idle": "2025-03-16T12:39:07.425215Z",
          "shell.execute_reply.started": "2025-03-16T12:39:07.419169Z",
          "shell.execute_reply": "2025-03-16T12:39:07.424406Z"
        }
      },
      "outputs": [],
      "execution_count": 7
    },
    {
      "cell_type": "code",
      "source": [
        "print(\"DDR\")\n",
        "cm = sns.light_palette(\"seagreen\", as_cmap=True)\n",
        "df_new_ddr[\"cluster-label\"].value_counts(dropna=False).to_frame().style.background_gradient(cmap=cm)"
      ],
      "metadata": {
        "id": "LSkcVQI1idFv",
        "trusted": true,
        "execution": {
          "iopub.status.busy": "2025-03-16T12:39:07.426243Z",
          "iopub.execute_input": "2025-03-16T12:39:07.426513Z",
          "iopub.status.idle": "2025-03-16T12:39:07.449726Z",
          "shell.execute_reply.started": "2025-03-16T12:39:07.426490Z",
          "shell.execute_reply": "2025-03-16T12:39:07.449084Z"
        },
        "colab": {
          "base_uri": "https://localhost:8080/",
          "height": 349
        },
        "outputId": "7c058863-ca06-4a44-fb22-9cc5dd393a5f"
      },
      "outputs": [
        {
          "output_type": "stream",
          "name": "stdout",
          "text": [
            "DDR\n"
          ]
        },
        {
          "output_type": "execute_result",
          "data": {
            "text/plain": [
              "<pandas.io.formats.style.Styler at 0x7ba4fa381150>"
            ],
            "text/html": [
              "<style type=\"text/css\">\n",
              "#T_65680_row0_col0 {\n",
              "  background-color: #2e8b57;\n",
              "  color: #f1f1f1;\n",
              "}\n",
              "#T_65680_row1_col0 {\n",
              "  background-color: #9fc9b1;\n",
              "  color: #000000;\n",
              "}\n",
              "#T_65680_row2_col0 {\n",
              "  background-color: #b9d7c5;\n",
              "  color: #000000;\n",
              "}\n",
              "#T_65680_row3_col0 {\n",
              "  background-color: #cce2d4;\n",
              "  color: #000000;\n",
              "}\n",
              "#T_65680_row4_col0 {\n",
              "  background-color: #d5e6dc;\n",
              "  color: #000000;\n",
              "}\n",
              "#T_65680_row5_col0 {\n",
              "  background-color: #e1ede5;\n",
              "  color: #000000;\n",
              "}\n",
              "#T_65680_row6_col0 {\n",
              "  background-color: #e7f0ea;\n",
              "  color: #000000;\n",
              "}\n",
              "#T_65680_row7_col0 {\n",
              "  background-color: #ebf3ed;\n",
              "  color: #000000;\n",
              "}\n",
              "</style>\n",
              "<table id=\"T_65680\" class=\"dataframe\">\n",
              "  <thead>\n",
              "    <tr>\n",
              "      <th class=\"blank level0\" >&nbsp;</th>\n",
              "      <th id=\"T_65680_level0_col0\" class=\"col_heading level0 col0\" >count</th>\n",
              "    </tr>\n",
              "    <tr>\n",
              "      <th class=\"index_name level0\" >cluster-label</th>\n",
              "      <th class=\"blank col0\" >&nbsp;</th>\n",
              "    </tr>\n",
              "  </thead>\n",
              "  <tbody>\n",
              "    <tr>\n",
              "      <th id=\"T_65680_level0_row0\" class=\"row_heading level0 row0\" >2</th>\n",
              "      <td id=\"T_65680_row0_col0\" class=\"data row0 col0\" >209</td>\n",
              "    </tr>\n",
              "    <tr>\n",
              "      <th id=\"T_65680_level0_row1\" class=\"row_heading level0 row1\" >5</th>\n",
              "      <td id=\"T_65680_row1_col0\" class=\"data row1 col0\" >86</td>\n",
              "    </tr>\n",
              "    <tr>\n",
              "      <th id=\"T_65680_level0_row2\" class=\"row_heading level0 row2\" >4</th>\n",
              "      <td id=\"T_65680_row2_col0\" class=\"data row2 col0\" >57</td>\n",
              "    </tr>\n",
              "    <tr>\n",
              "      <th id=\"T_65680_level0_row3\" class=\"row_heading level0 row3\" >1</th>\n",
              "      <td id=\"T_65680_row3_col0\" class=\"data row3 col0\" >36</td>\n",
              "    </tr>\n",
              "    <tr>\n",
              "      <th id=\"T_65680_level0_row4\" class=\"row_heading level0 row4\" >3</th>\n",
              "      <td id=\"T_65680_row4_col0\" class=\"data row4 col0\" >27</td>\n",
              "    </tr>\n",
              "    <tr>\n",
              "      <th id=\"T_65680_level0_row5\" class=\"row_heading level0 row5\" >0</th>\n",
              "      <td id=\"T_65680_row5_col0\" class=\"data row5 col0\" >14</td>\n",
              "    </tr>\n",
              "    <tr>\n",
              "      <th id=\"T_65680_level0_row6\" class=\"row_heading level0 row6\" >7</th>\n",
              "      <td id=\"T_65680_row6_col0\" class=\"data row6 col0\" >7</td>\n",
              "    </tr>\n",
              "    <tr>\n",
              "      <th id=\"T_65680_level0_row7\" class=\"row_heading level0 row7\" >6</th>\n",
              "      <td id=\"T_65680_row7_col0\" class=\"data row7 col0\" >2</td>\n",
              "    </tr>\n",
              "  </tbody>\n",
              "</table>\n"
            ]
          },
          "metadata": {},
          "execution_count": 8
        }
      ],
      "execution_count": 8
    },
    {
      "cell_type": "markdown",
      "source": [
        "## Hierarchial Clustering"
      ],
      "metadata": {
        "id": "U9z_C58YUuik"
      }
    },
    {
      "cell_type": "code",
      "source": [
        "# Check if 'Unnamed: 0' exists as a column, else handle the index\n",
        "if 'Unnamed: 0' in df_ddr.columns:\n",
        "    y = df_ddr['Unnamed: 0']\n",
        "    X_ddr_aglo = df_ddr.drop('Unnamed: 0', axis=1)\n",
        "else:\n",
        "    # If 'Unnamed: 0' is not a column, handle it as the index\n",
        "    y = df_ddr.index\n",
        "    X_ddr_aglo = df_ddr.copy()  # No need to drop the index since it's not in the columns\n",
        "\n",
        "# Proceed with your other operations\n"
      ],
      "metadata": {
        "id": "P7MnqNbJROmv",
        "trusted": true,
        "execution": {
          "iopub.status.busy": "2025-03-16T12:39:07.450485Z",
          "iopub.execute_input": "2025-03-16T12:39:07.450781Z",
          "iopub.status.idle": "2025-03-16T12:39:07.462876Z",
          "shell.execute_reply.started": "2025-03-16T12:39:07.450760Z",
          "shell.execute_reply": "2025-03-16T12:39:07.462279Z"
        }
      },
      "outputs": [],
      "execution_count": 9
    },
    {
      "cell_type": "code",
      "source": [
        "import scipy.cluster.hierarchy as sch # importing scipy.cluster.hierarchy for dendrogram\n",
        "dist_mat = sch.linkage(X_ddr_aglo, method = 'complete',metric='euclidean')\n",
        "dendrogram = sch.dendrogram(dist_mat) # finding the optimal number of clusters using dendrogram\n",
        "plt.title('Dendrogram') # title of the dendrogram\n",
        "plt.xlabel('Drugs') # label of the x-axis\n",
        "plt.ylabel('Euclidean distances') # label of the y-axis\n",
        "plt.show() # show the dendrogram"
      ],
      "metadata": {
        "colab": {
          "base_uri": "https://localhost:8080/",
          "height": 471
        },
        "id": "qgvkUhusU5pi",
        "outputId": "ee409c4e-6413-4b85-c922-0e997a419abc",
        "trusted": true,
        "execution": {
          "iopub.status.busy": "2025-03-16T12:39:07.463686Z",
          "iopub.execute_input": "2025-03-16T12:39:07.464007Z",
          "iopub.status.idle": "2025-03-16T12:39:10.949453Z",
          "shell.execute_reply.started": "2025-03-16T12:39:07.463978Z",
          "shell.execute_reply": "2025-03-16T12:39:10.948548Z"
        }
      },
      "outputs": [
        {
          "output_type": "display_data",
          "data": {
            "text/plain": [
              "<Figure size 640x480 with 1 Axes>"
            ],
            "image/png": "[encoded data removed]"
          },
          "metadata": {}
        }
      ],
      "execution_count": 10
    },
    {
      "cell_type": "code",
      "source": [
        "from sklearn.cluster import AgglomerativeClustering\n",
        "from sklearn import metrics\n",
        "\n",
        "# Using 'ward' linkage without the affinity parameter\n",
        "clustering_model = AgglomerativeClustering(n_clusters=10, linkage='ward')\n",
        "clustering_model.fit(X_ddr_aglo)\n",
        "\n",
        "# Compute silhouette score\n",
        "print(metrics.silhouette_score(X_ddr_aglo, clustering_model.labels_, metric='euclidean'))\n"
      ],
      "metadata": {
        "colab": {
          "base_uri": "https://localhost:8080/"
        },
        "id": "E7-EqlDgVEtK",
        "outputId": "88b05863-d9ac-441d-f518-8caab315792a",
        "trusted": true,
        "execution": {
          "iopub.status.busy": "2025-03-16T12:39:10.950640Z",
          "iopub.execute_input": "2025-03-16T12:39:10.951002Z",
          "iopub.status.idle": "2025-03-16T12:39:10.967443Z",
          "shell.execute_reply.started": "2025-03-16T12:39:10.950967Z",
          "shell.execute_reply": "2025-03-16T12:39:10.966531Z"
        }
      },
      "outputs": [
        {
          "output_type": "stream",
          "name": "stdout",
          "text": [
            "0.3794454546230169\n"
          ]
        }
      ],
      "execution_count": 11
    },
    {
      "cell_type": "code",
      "source": [
        "df_agglo = pd.DataFrame({'node-value':y, 'cluster-label':clustering_model.labels_})\n",
        "df_agglo = df_agglo.sort_values('cluster-label')\n",
        "fileName = '/content/sample_data/HC-128-16-final-HC.csv'\n",
        "df_agglo.to_csv(fileName)"
      ],
      "metadata": {
        "id": "7pY0NacPOipx",
        "trusted": true,
        "execution": {
          "iopub.status.busy": "2025-03-16T12:39:10.968364Z",
          "iopub.execute_input": "2025-03-16T12:39:10.968699Z",
          "iopub.status.idle": "2025-03-16T12:39:10.975364Z",
          "shell.execute_reply.started": "2025-03-16T12:39:10.968668Z",
          "shell.execute_reply": "2025-03-16T12:39:10.974641Z"
        }
      },
      "outputs": [],
      "execution_count": 12
    },
    {
      "cell_type": "code",
      "source": [
        "cm = sns.light_palette(\"seagreen\", as_cmap=True)\n",
        "df_agglo[\"cluster-label\"].value_counts(dropna=False).to_frame().style.background_gradient(cmap=cm)"
      ],
      "metadata": {
        "id": "vOutAnYEWLJV",
        "trusted": true,
        "execution": {
          "iopub.status.busy": "2025-03-16T12:39:10.976350Z",
          "iopub.execute_input": "2025-03-16T12:39:10.976769Z",
          "iopub.status.idle": "2025-03-16T12:39:11.000203Z",
          "shell.execute_reply.started": "2025-03-16T12:39:10.976710Z",
          "shell.execute_reply": "2025-03-16T12:39:10.999511Z"
        },
        "colab": {
          "base_uri": "https://localhost:8080/",
          "height": 394
        },
        "outputId": "26166a79-ca82-408d-9d06-a892318a20d7"
      },
      "outputs": [
        {
          "output_type": "execute_result",
          "data": {
            "text/plain": [
              "<pandas.io.formats.style.Styler at 0x7ba4f9d49550>"
            ],
            "text/html": [
              "<style type=\"text/css\">\n",
              "#T_32639_row0_col0 {\n",
              "  background-color: #2e8b57;\n",
              "  color: #f1f1f1;\n",
              "}\n",
              "#T_32639_row1_col0 {\n",
              "  background-color: #bdd9c9;\n",
              "  color: #000000;\n",
              "}\n",
              "#T_32639_row2_col0 {\n",
              "  background-color: #d5e6dc;\n",
              "  color: #000000;\n",
              "}\n",
              "#T_32639_row3_col0 {\n",
              "  background-color: #d6e7dd;\n",
              "  color: #000000;\n",
              "}\n",
              "#T_32639_row4_col0 {\n",
              "  background-color: #deebe3;\n",
              "  color: #000000;\n",
              "}\n",
              "#T_32639_row5_col0 {\n",
              "  background-color: #e7f1ea;\n",
              "  color: #000000;\n",
              "}\n",
              "#T_32639_row6_col0, #T_32639_row7_col0, #T_32639_row8_col0, #T_32639_row9_col0 {\n",
              "  background-color: #ebf3ed;\n",
              "  color: #000000;\n",
              "}\n",
              "</style>\n",
              "<table id=\"T_32639\" class=\"dataframe\">\n",
              "  <thead>\n",
              "    <tr>\n",
              "      <th class=\"blank level0\" >&nbsp;</th>\n",
              "      <th id=\"T_32639_level0_col0\" class=\"col_heading level0 col0\" >count</th>\n",
              "    </tr>\n",
              "    <tr>\n",
              "      <th class=\"index_name level0\" >cluster-label</th>\n",
              "      <th class=\"blank col0\" >&nbsp;</th>\n",
              "    </tr>\n",
              "  </thead>\n",
              "  <tbody>\n",
              "    <tr>\n",
              "      <th id=\"T_32639_level0_row0\" class=\"row_heading level0 row0\" >1</th>\n",
              "      <td id=\"T_32639_row0_col0\" class=\"data row0 col0\" >274</td>\n",
              "    </tr>\n",
              "    <tr>\n",
              "      <th id=\"T_32639_level0_row1\" class=\"row_heading level0 row1\" >0</th>\n",
              "      <td id=\"T_32639_row1_col0\" class=\"data row1 col0\" >68</td>\n",
              "    </tr>\n",
              "    <tr>\n",
              "      <th id=\"T_32639_level0_row2\" class=\"row_heading level0 row2\" >4</th>\n",
              "      <td id=\"T_32639_row2_col0\" class=\"data row2 col0\" >33</td>\n",
              "    </tr>\n",
              "    <tr>\n",
              "      <th id=\"T_32639_level0_row3\" class=\"row_heading level0 row3\" >6</th>\n",
              "      <td id=\"T_32639_row3_col0\" class=\"data row3 col0\" >31</td>\n",
              "    </tr>\n",
              "    <tr>\n",
              "      <th id=\"T_32639_level0_row4\" class=\"row_heading level0 row4\" >2</th>\n",
              "      <td id=\"T_32639_row4_col0\" class=\"data row4 col0\" >21</td>\n",
              "    </tr>\n",
              "    <tr>\n",
              "      <th id=\"T_32639_level0_row5\" class=\"row_heading level0 row5\" >3</th>\n",
              "      <td id=\"T_32639_row5_col0\" class=\"data row5 col0\" >7</td>\n",
              "    </tr>\n",
              "    <tr>\n",
              "      <th id=\"T_32639_level0_row6\" class=\"row_heading level0 row6\" >5</th>\n",
              "      <td id=\"T_32639_row6_col0\" class=\"data row6 col0\" >1</td>\n",
              "    </tr>\n",
              "    <tr>\n",
              "      <th id=\"T_32639_level0_row7\" class=\"row_heading level0 row7\" >7</th>\n",
              "      <td id=\"T_32639_row7_col0\" class=\"data row7 col0\" >1</td>\n",
              "    </tr>\n",
              "    <tr>\n",
              "      <th id=\"T_32639_level0_row8\" class=\"row_heading level0 row8\" >8</th>\n",
              "      <td id=\"T_32639_row8_col0\" class=\"data row8 col0\" >1</td>\n",
              "    </tr>\n",
              "    <tr>\n",
              "      <th id=\"T_32639_level0_row9\" class=\"row_heading level0 row9\" >9</th>\n",
              "      <td id=\"T_32639_row9_col0\" class=\"data row9 col0\" >1</td>\n",
              "    </tr>\n",
              "  </tbody>\n",
              "</table>\n"
            ]
          },
          "metadata": {},
          "execution_count": 13
        }
      ],
      "execution_count": 13
    },
    {
      "cell_type": "code",
      "source": [
        "import numpy as np\n",
        "import pandas as pd\n",
        "import matplotlib.pyplot as plt\n",
        "import seaborn as sns\n",
        "%matplotlib inline\n",
        "from sklearn.preprocessing import LabelEncoder\n",
        "import warnings\n",
        "from sklearn.preprocessing import MinMaxScaler\n",
        "from sklearn.cluster import KMeans\n",
        "from scipy.spatial.distance import pdist, squareform\n",
        "import scipy\n",
        "from scipy.sparse import csgraph\n",
        "from numpy import linalg as LA\n",
        "import scipy.cluster.hierarchy as sch\n",
        "from sklearn import metrics\n",
        "from sklearn.cluster import AgglomerativeClustering\n",
        "from sklearn.cluster import SpectralClustering, AffinityPropagation\n",
        "warnings.filterwarnings('ignore')"
      ],
      "metadata": {
        "id": "X_Fssfj6V52X",
        "trusted": true,
        "execution": {
          "iopub.status.busy": "2025-03-16T12:39:11.001157Z",
          "iopub.execute_input": "2025-03-16T12:39:11.001411Z",
          "iopub.status.idle": "2025-03-16T12:39:11.018407Z",
          "shell.execute_reply.started": "2025-03-16T12:39:11.001392Z",
          "shell.execute_reply": "2025-03-16T12:39:11.017801Z"
        }
      },
      "outputs": [],
      "execution_count": 14
    },
    {
      "cell_type": "code",
      "source": [
        "def getAffinityMatrix(coordinates, k = 10):\n",
        "    \"\"\"\n",
        "    Calculate affinity matrix based on input coordinates matrix and the numeber\n",
        "    of nearest neighbours.\n",
        "\n",
        "    Apply local scaling based on the k nearest neighbour\n",
        "        References:\n",
        "    https://papers.nips.cc/paper/2619-self-tuning-spectral-clustering.pdf\n",
        "    \"\"\"\n",
        "    # calculate euclidian distance matrix\n",
        "    dists = squareform(pdist(coordinates))\n",
        "\n",
        "    # for each row, sort the distances ascendingly and take the index of the\n",
        "    #k-th position (nearest neighbour)\n",
        "    knn_distances = np.sort(dists, axis=0)[k]\n",
        "    knn_distances = knn_distances[np.newaxis].T\n",
        "\n",
        "    # calculate sigma_i * sigma_j\n",
        "    local_scale = knn_distances.dot(knn_distances.T)\n",
        "\n",
        "    affinity_matrix = dists * dists\n",
        "    affinity_matrix = -affinity_matrix / local_scale\n",
        "    # divide square distance matrix by local scale\n",
        "    affinity_matrix[np.where(np.isnan(affinity_matrix))] = 0.0\n",
        "    # apply exponential\n",
        "    affinity_matrix = np.exp(affinity_matrix)\n",
        "    np.fill_diagonal(affinity_matrix, 0)\n",
        "    return affinity_matrix\n",
        "\n",
        "def eigenDecomposition(A, plot = True, topK = 5):\n",
        "    \"\"\"\n",
        "    :param A: Affinity matrix\n",
        "    :param plot: plots the sorted eigen values for visual inspection\n",
        "    :return A tuple containing:\n",
        "    - the optimal number of clusters by eigengap heuristic\n",
        "    - all eigen values\n",
        "    - all eigen vectors\n",
        "\n",
        "    This method performs the eigen decomposition on a given affinity matrix,\n",
        "    following the steps recommended in the paper:\n",
        "    1. Construct the normalized affinity matrix: L = D−1/2ADˆ −1/2.\n",
        "    2. Find the eigenvalues and their associated eigen vectors\n",
        "    3. Identify the maximum gap which corresponds to the number of clusters\n",
        "    by eigengap heuristic\n",
        "\n",
        "    References:\n",
        "    https://papers.nips.cc/paper/2619-self-tuning-spectral-clustering.pdf\n",
        "    http://www.kyb.mpg.de/fileadmin/user_upload/files/publications/attachments/Luxburg07_tutorial_4488%5b0%5d.pdf\n",
        "    \"\"\"\n",
        "    L = csgraph.laplacian(A, normed=True)\n",
        "    n_components = A.shape[0]\n",
        "\n",
        "    # LM parameter : Eigenvalues with largest magnitude (eigs, eigsh), that is, largest eigenvalues in\n",
        "    # the euclidean norm of complex numbers.\n",
        "#     eigenvalues, eigenvectors = eigsh(L, k=n_components, which=\"LM\", sigma=1.0, maxiter=5000)\n",
        "    eigenvalues, eigenvectors = LA.eig(L)\n",
        "\n",
        "    if plot:\n",
        "        plt.title('Largest eigen values of input matrix')\n",
        "        plt.scatter(np.arange(len(eigenvalues)), eigenvalues)\n",
        "        plt.grid()\n",
        "\n",
        "    # Identify the optimal number of clusters as the index corresponding\n",
        "    # to the larger gap between eigen values\n",
        "    index_largest_gap = np.argsort(np.diff(eigenvalues))[::-1][:topK]\n",
        "    nb_clusters = index_largest_gap + 1\n",
        "\n",
        "    return nb_clusters, eigenvalues, eigenvectors"
      ],
      "metadata": {
        "id": "EHluvAOxjVnu",
        "trusted": true,
        "execution": {
          "iopub.status.busy": "2025-03-16T12:39:11.020312Z",
          "iopub.execute_input": "2025-03-16T12:39:11.020620Z",
          "iopub.status.idle": "2025-03-16T12:39:11.036015Z",
          "shell.execute_reply.started": "2025-03-16T12:39:11.020586Z",
          "shell.execute_reply": "2025-03-16T12:39:11.035458Z"
        }
      },
      "outputs": [],
      "execution_count": 15
    },
    {
      "cell_type": "code",
      "source": [
        "if 'Unnamed: 0' in df_ddr.columns:\n",
        "    y = df_ddr['Unnamed: 0']\n",
        "    X_ddr_aglo = df_ddr.drop('Unnamed: 0', axis=1)\n",
        "else:\n",
        "    # Handle if 'Unnamed: 0' does not exist\n",
        "    print(\"Column 'Unnamed: 0' not found in the DataFrame.\")\n",
        "    # You can decide what to do in this case, maybe use another column as y\n",
        "    y = df_ddr.iloc[:, 0]  # Example: using the first column as 'y'\n",
        "    X_ddr_aglo = df_ddr.drop(df_ddr.columns[0], axis=1)  # Dropping the first column for X\n"
      ],
      "metadata": {
        "id": "BOMhUDi2V6W_",
        "trusted": true,
        "execution": {
          "iopub.status.busy": "2025-03-16T12:39:11.036926Z",
          "iopub.execute_input": "2025-03-16T12:39:11.037138Z",
          "iopub.status.idle": "2025-03-16T12:39:11.056871Z",
          "shell.execute_reply.started": "2025-03-16T12:39:11.037118Z",
          "shell.execute_reply": "2025-03-16T12:39:11.056199Z"
        },
        "colab": {
          "base_uri": "https://localhost:8080/"
        },
        "outputId": "7f27a73c-6210-482b-f1d4-52f441dbaf10"
      },
      "outputs": [
        {
          "output_type": "stream",
          "name": "stdout",
          "text": [
            "Column 'Unnamed: 0' not found in the DataFrame.\n"
          ]
        }
      ],
      "execution_count": 16
    },
    {
      "cell_type": "code",
      "source": [
        "affinity_matrix_moa = getAffinityMatrix(X_ddr_aglo, k = 7)\n",
        "k, _,  _ = eigenDecomposition(affinity_matrix_moa)\n",
        "print(f'Optimal number of clusters {k}')"
      ],
      "metadata": {
        "colab": {
          "base_uri": "https://localhost:8080/",
          "height": 470
        },
        "id": "fJwt9h-_WD_w",
        "outputId": "63d57dbc-05d8-494d-ef35-3530fc27e3a4",
        "trusted": true,
        "execution": {
          "iopub.status.busy": "2025-03-16T12:39:11.057927Z",
          "iopub.execute_input": "2025-03-16T12:39:11.058242Z",
          "iopub.status.idle": "2025-03-16T12:39:11.387012Z",
          "shell.execute_reply.started": "2025-03-16T12:39:11.058212Z",
          "shell.execute_reply": "2025-03-16T12:39:11.386099Z"
        }
      },
      "outputs": [
        {
          "output_type": "stream",
          "name": "stdout",
          "text": [
            "Optimal number of clusters [ 39  64  68  73 103]\n"
          ]
        },
        {
          "output_type": "display_data",
          "data": {
            "text/plain": [
              "<Figure size 640x480 with 1 Axes>"
            ],
            "image/png": "[encoded data removed]"
          },
          "metadata": {}
        }
      ],
      "execution_count": 17
    },
    {
      "cell_type": "markdown",
      "source": [],
      "metadata": {
        "id": "oqMpWpD7jjYt"
      }
    },
    {
      "cell_type": "code",
      "source": [
        "clustering = SpectralClustering(n_clusters=39, assign_labels=\"discretize\", random_state=0).fit(X_ddr_aglo)\n",
        "y_pred = clustering.labels_\n",
        "print('silhouette_score')\n",
        "print(metrics.silhouette_score(X_ddr_aglo,y_pred, metric='euclidean'))\n",
        "df_new_ddr = make_df(y_pred,y,'-SC.csv')"
      ],
      "metadata": {
        "colab": {
          "base_uri": "https://localhost:8080/"
        },
        "id": "bI_R49sEWJeh",
        "outputId": "35be064c-2c11-4105-850b-3dd70f958ff5",
        "trusted": true,
        "execution": {
          "iopub.status.busy": "2025-03-16T12:39:11.387907Z",
          "iopub.execute_input": "2025-03-16T12:39:11.388174Z",
          "iopub.status.idle": "2025-03-16T12:39:11.475462Z",
          "shell.execute_reply.started": "2025-03-16T12:39:11.388152Z",
          "shell.execute_reply": "2025-03-16T12:39:11.474749Z"
        }
      },
      "outputs": [
        {
          "output_type": "stream",
          "name": "stdout",
          "text": [
            "silhouette_score\n",
            "0.19754335001478063\n"
          ]
        }
      ],
      "execution_count": 18
    },
    {
      "cell_type": "code",
      "source": [
        "cm = sns.light_palette(\"seagreen\", as_cmap=True)\n",
        "df_new_ddr[\"cluster-label\"].value_counts(dropna=False).to_frame().style.background_gradient(cmap=cm)"
      ],
      "metadata": {
        "id": "T9H5ypVCWswZ",
        "trusted": true,
        "execution": {
          "iopub.status.busy": "2025-03-16T12:39:11.476133Z",
          "iopub.execute_input": "2025-03-16T12:39:11.476318Z",
          "iopub.status.idle": "2025-03-16T12:39:11.490222Z",
          "shell.execute_reply.started": "2025-03-16T12:39:11.476301Z",
          "shell.execute_reply": "2025-03-16T12:39:11.489330Z"
        },
        "colab": {
          "base_uri": "https://localhost:8080/",
          "height": 644
        },
        "outputId": "5854d5ef-4e51-4dcf-ba71-4ab2adc92b19"
      },
      "outputs": [
        {
          "output_type": "execute_result",
          "data": {
            "text/plain": [
              "<pandas.io.formats.style.Styler at 0x7ba4f5403dd0>"
            ],
            "text/html": [
              "<style type=\"text/css\">\n",
              "#T_de182_row0_col0 {\n",
              "  background-color: #2e8b57;\n",
              "  color: #f1f1f1;\n",
              "}\n",
              "#T_de182_row1_col0 {\n",
              "  background-color: #7bb594;\n",
              "  color: #f1f1f1;\n",
              "}\n",
              "#T_de182_row2_col0 {\n",
              "  background-color: #b9d7c6;\n",
              "  color: #000000;\n",
              "}\n",
              "#T_de182_row3_col0 {\n",
              "  background-color: #cee3d6;\n",
              "  color: #000000;\n",
              "}\n",
              "#T_de182_row4_col0 {\n",
              "  background-color: #d3e5da;\n",
              "  color: #000000;\n",
              "}\n",
              "#T_de182_row5_col0 {\n",
              "  background-color: #d7e8dd;\n",
              "  color: #000000;\n",
              "}\n",
              "#T_de182_row6_col0 {\n",
              "  background-color: #dbeae0;\n",
              "  color: #000000;\n",
              "}\n",
              "#T_de182_row7_col0 {\n",
              "  background-color: #dbeae1;\n",
              "  color: #000000;\n",
              "}\n",
              "#T_de182_row8_col0 {\n",
              "  background-color: #e6f0e9;\n",
              "  color: #000000;\n",
              "}\n",
              "#T_de182_row9_col0 {\n",
              "  background-color: #e8f1eb;\n",
              "  color: #000000;\n",
              "}\n",
              "#T_de182_row10_col0, #T_de182_row11_col0, #T_de182_row12_col0 {\n",
              "  background-color: #e9f1eb;\n",
              "  color: #000000;\n",
              "}\n",
              "#T_de182_row13_col0 {\n",
              "  background-color: #eaf2ed;\n",
              "  color: #000000;\n",
              "}\n",
              "#T_de182_row14_col0, #T_de182_row15_col0, #T_de182_row16_col0, #T_de182_row17_col0 {\n",
              "  background-color: #ebf3ed;\n",
              "  color: #000000;\n",
              "}\n",
              "</style>\n",
              "<table id=\"T_de182\" class=\"dataframe\">\n",
              "  <thead>\n",
              "    <tr>\n",
              "      <th class=\"blank level0\" >&nbsp;</th>\n",
              "      <th id=\"T_de182_level0_col0\" class=\"col_heading level0 col0\" >count</th>\n",
              "    </tr>\n",
              "    <tr>\n",
              "      <th class=\"index_name level0\" >cluster-label</th>\n",
              "      <th class=\"blank col0\" >&nbsp;</th>\n",
              "    </tr>\n",
              "  </thead>\n",
              "  <tbody>\n",
              "    <tr>\n",
              "      <th id=\"T_de182_level0_row0\" class=\"row_heading level0 row0\" >13</th>\n",
              "      <td id=\"T_de182_row0_col0\" class=\"data row0 col0\" >168</td>\n",
              "    </tr>\n",
              "    <tr>\n",
              "      <th id=\"T_de182_level0_row1\" class=\"row_heading level0 row1\" >0</th>\n",
              "      <td id=\"T_de182_row1_col0\" class=\"data row1 col0\" >100</td>\n",
              "    </tr>\n",
              "    <tr>\n",
              "      <th id=\"T_de182_level0_row2\" class=\"row_heading level0 row2\" >22</th>\n",
              "      <td id=\"T_de182_row2_col0\" class=\"data row2 col0\" >45</td>\n",
              "    </tr>\n",
              "    <tr>\n",
              "      <th id=\"T_de182_level0_row3\" class=\"row_heading level0 row3\" >23</th>\n",
              "      <td id=\"T_de182_row3_col0\" class=\"data row3 col0\" >27</td>\n",
              "    </tr>\n",
              "    <tr>\n",
              "      <th id=\"T_de182_level0_row4\" class=\"row_heading level0 row4\" >36</th>\n",
              "      <td id=\"T_de182_row4_col0\" class=\"data row4 col0\" >23</td>\n",
              "    </tr>\n",
              "    <tr>\n",
              "      <th id=\"T_de182_level0_row5\" class=\"row_heading level0 row5\" >9</th>\n",
              "      <td id=\"T_de182_row5_col0\" class=\"data row5 col0\" >19</td>\n",
              "    </tr>\n",
              "    <tr>\n",
              "      <th id=\"T_de182_level0_row6\" class=\"row_heading level0 row6\" >24</th>\n",
              "      <td id=\"T_de182_row6_col0\" class=\"data row6 col0\" >16</td>\n",
              "    </tr>\n",
              "    <tr>\n",
              "      <th id=\"T_de182_level0_row7\" class=\"row_heading level0 row7\" >12</th>\n",
              "      <td id=\"T_de182_row7_col0\" class=\"data row7 col0\" >15</td>\n",
              "    </tr>\n",
              "    <tr>\n",
              "      <th id=\"T_de182_level0_row8\" class=\"row_heading level0 row8\" >3</th>\n",
              "      <td id=\"T_de182_row8_col0\" class=\"data row8 col0\" >6</td>\n",
              "    </tr>\n",
              "    <tr>\n",
              "      <th id=\"T_de182_level0_row9\" class=\"row_heading level0 row9\" >14</th>\n",
              "      <td id=\"T_de182_row9_col0\" class=\"data row9 col0\" >4</td>\n",
              "    </tr>\n",
              "    <tr>\n",
              "      <th id=\"T_de182_level0_row10\" class=\"row_heading level0 row10\" >6</th>\n",
              "      <td id=\"T_de182_row10_col0\" class=\"data row10 col0\" >3</td>\n",
              "    </tr>\n",
              "    <tr>\n",
              "      <th id=\"T_de182_level0_row11\" class=\"row_heading level0 row11\" >4</th>\n",
              "      <td id=\"T_de182_row11_col0\" class=\"data row11 col0\" >3</td>\n",
              "    </tr>\n",
              "    <tr>\n",
              "      <th id=\"T_de182_level0_row12\" class=\"row_heading level0 row12\" >7</th>\n",
              "      <td id=\"T_de182_row12_col0\" class=\"data row12 col0\" >3</td>\n",
              "    </tr>\n",
              "    <tr>\n",
              "      <th id=\"T_de182_level0_row13\" class=\"row_heading level0 row13\" >8</th>\n",
              "      <td id=\"T_de182_row13_col0\" class=\"data row13 col0\" >2</td>\n",
              "    </tr>\n",
              "    <tr>\n",
              "      <th id=\"T_de182_level0_row14\" class=\"row_heading level0 row14\" >1</th>\n",
              "      <td id=\"T_de182_row14_col0\" class=\"data row14 col0\" >1</td>\n",
              "    </tr>\n",
              "    <tr>\n",
              "      <th id=\"T_de182_level0_row15\" class=\"row_heading level0 row15\" >5</th>\n",
              "      <td id=\"T_de182_row15_col0\" class=\"data row15 col0\" >1</td>\n",
              "    </tr>\n",
              "    <tr>\n",
              "      <th id=\"T_de182_level0_row16\" class=\"row_heading level0 row16\" >15</th>\n",
              "      <td id=\"T_de182_row16_col0\" class=\"data row16 col0\" >1</td>\n",
              "    </tr>\n",
              "    <tr>\n",
              "      <th id=\"T_de182_level0_row17\" class=\"row_heading level0 row17\" >33</th>\n",
              "      <td id=\"T_de182_row17_col0\" class=\"data row17 col0\" >1</td>\n",
              "    </tr>\n",
              "  </tbody>\n",
              "</table>\n"
            ]
          },
          "metadata": {},
          "execution_count": 19
        }
      ],
      "execution_count": 19
    }
  ]
}