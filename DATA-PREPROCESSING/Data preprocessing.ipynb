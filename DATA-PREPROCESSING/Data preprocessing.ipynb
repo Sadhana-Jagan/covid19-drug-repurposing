{
 "cells": [
  {
   "cell_type": "code",
   "execution_count": 1,
   "id": "657aa2ff",
   "metadata": {},
   "outputs": [],
   "source": [
    "import numpy as np\n",
    "import pandas as pd\n",
    "import matplotlib.pyplot as plt\n",
    "import plotly.express as px"
   ]
  },
  {
   "cell_type": "markdown",
   "id": "413317ee",
   "metadata": {},
   "source": [
    "### Process data for clinical trial drugs"
   ]
  },
  {
   "attachments": {},
   "cell_type": "markdown",
   "id": "e2329ad0",
   "metadata": {},
   "source": [
    "## Clinical Trial files(CT)"
   ]
  },
  {
   "cell_type": "code",
   "execution_count": 8,
   "id": "a4485031",
   "metadata": {},
   "outputs": [],
   "source": [
    "df_drug_moa_ct = pd.read_csv('drug-action-CT-files/Drug-MOA-CT.csv')\n",
    "df_drug_target_ct = pd.read_csv('drug-action-CT-files/Drug-Target-CT.csv')\n",
    "df_drug_indication_ct = pd.read_csv('drug-action-CT-files/Drug-Indication-CT.csv')\n",
    "df_drug_pathway_ct = pd.read_csv('drug-action-CT-files/Drug-Pathway-CT.csv')"
   ]
  },
  {
   "cell_type": "code",
   "execution_count": 4,
   "id": "e54b199e",
   "metadata": {},
   "outputs": [],
   "source": [
    "#expanding all the data in second column of the datset\n",
    "#eg:MOA column has more than 1 value, breaking it down by duplicating the drug name\n",
    "\n",
    "def explode(df, lst_cols, fill_value='', preserve_index=False):\n",
    "    if (lst_cols is not None\n",
    "        and len(lst_cols) > 0\n",
    "        and not isinstance(lst_cols, (list, tuple, np.ndarray, pd.Series))):\n",
    "        lst_cols = [lst_cols]\n",
    "    idx_cols = df.columns.difference(lst_cols)\n",
    "    lens = df[lst_cols[0]].str.len()   \n",
    "    idx = np.repeat(df.index.values, lens)\n",
    "    res = (pd.DataFrame({col:np.repeat(df[col].values, lens)for col in idx_cols},index=idx).assign(**{col:np.concatenate(df.loc[lens>0, col].values)for col in lst_cols}))\n",
    "    if (lens == 0).any():\n",
    "        res = (res.append(df.loc[lens==0, idx_cols], sort=False).fillna(fill_value))\n",
    "    res = res.sort_index()\n",
    "    if not preserve_index:        \n",
    "        res = res.reset_index(drop=True)\n",
    "    return res"
   ]
  },
  {
   "cell_type": "code",
   "execution_count": 26,
   "id": "d77d1d10",
   "metadata": {},
   "outputs": [
    {
     "data": {
      "text/html": [
       "<div>\n",
       "<style scoped>\n",
       "    .dataframe tbody tr th:only-of-type {\n",
       "        vertical-align: middle;\n",
       "    }\n",
       "\n",
       "    .dataframe tbody tr th {\n",
       "        vertical-align: top;\n",
       "    }\n",
       "\n",
       "    .dataframe thead th {\n",
       "        text-align: right;\n",
       "    }\n",
       "</style>\n",
       "<table border=\"1\" class=\"dataframe\">\n",
       "  <thead>\n",
       "    <tr style=\"text-align: right;\">\n",
       "      <th></th>\n",
       "      <th>Name</th>\n",
       "      <th>MOA</th>\n",
       "    </tr>\n",
       "  </thead>\n",
       "  <tbody>\n",
       "    <tr>\n",
       "      <th>0</th>\n",
       "      <td>enalaprilat (dihydrate)</td>\n",
       "      <td>angiotensin converting enzyme inhibitor</td>\n",
       "    </tr>\n",
       "    <tr>\n",
       "      <th>1</th>\n",
       "      <td>sertraline (hydrochloride)</td>\n",
       "      <td>selective serotonin reuptake inhibitor (ssri)</td>\n",
       "    </tr>\n",
       "    <tr>\n",
       "      <th>2</th>\n",
       "      <td>clindamycin (hydrochloride)</td>\n",
       "      <td>protein synthesis inhibitor</td>\n",
       "    </tr>\n",
       "    <tr>\n",
       "      <th>3</th>\n",
       "      <td>ketotifen (fumarate)</td>\n",
       "      <td>histamine receptor agonist</td>\n",
       "    </tr>\n",
       "    <tr>\n",
       "      <th>4</th>\n",
       "      <td>ketotifen (fumarate)</td>\n",
       "      <td>leukotriene receptor antagonist</td>\n",
       "    </tr>\n",
       "  </tbody>\n",
       "</table>\n",
       "</div>"
      ],
      "text/plain": [
       "                          Name                                            MOA\n",
       "0      enalaprilat (dihydrate)        angiotensin converting enzyme inhibitor\n",
       "1   sertraline (hydrochloride)  selective serotonin reuptake inhibitor (ssri)\n",
       "2  clindamycin (hydrochloride)                    protein synthesis inhibitor\n",
       "3         ketotifen (fumarate)                     histamine receptor agonist\n",
       "4         ketotifen (fumarate)                leukotriene receptor antagonist"
      ]
     },
     "execution_count": 26,
     "metadata": {},
     "output_type": "execute_result"
    }
   ],
   "source": [
    "#dropping null values\n",
    "df_drug_moa_ct = df_drug_moa_ct.dropna()\n",
    "cols = df_drug_moa_ct.columns\n",
    "#converting all column values to lowercase\n",
    "df_drug_moa_ct[cols[0]] = df_drug_moa_ct[cols[0]].apply(lambda x:x.lower())\n",
    "df_drug_moa_ct[cols[1]] = df_drug_moa_ct[cols[1]].apply(lambda x:x.lower())\n",
    "df_drug_moa_mod = explode(df_drug_moa_ct.assign(MOA=df_drug_moa_ct.MOA.str.split(',')),'MOA')\n",
    "df_drug_moa_mod.head()"
   ]
  },
  {
   "cell_type": "code",
   "execution_count": 27,
   "id": "0d93315c",
   "metadata": {},
   "outputs": [],
   "source": [
    "df_drug_indication_ct = df_drug_indication_ct.dropna()\n",
    "df_drug_indication_mod = df_drug_indication_ct[(df_drug_indication_ct.Indication!='NA')]\n",
    "cols = df_drug_indication_mod.columns\n",
    "df_drug_indication_mod[cols[0]] = df_drug_indication_mod[cols[0]].apply(lambda x:x.lower())\n",
    "df_drug_indication_mod[cols[1]] = df_drug_indication_mod[cols[1]].apply(lambda x:x.lower())\n",
    "df_drug_indication_mod = explode(df_drug_indication_mod.assign(Indication=df_drug_indication_mod.Indication.str.split(',')),'Indication')"
   ]
  },
  {
   "cell_type": "code",
   "execution_count": 6,
   "id": "36b07bd6",
   "metadata": {},
   "outputs": [],
   "source": [
    "df_drug_pathway_ct = df_drug_pathway_ct.dropna()\n",
    "df_drug_pathway_mod = df_drug_pathway_ct[(df_drug_pathway_ct.Pathway!='NA')]\n",
    "df_drug_pathway_mod = df_drug_pathway_mod[(df_drug_pathway_ct.Pathway!='No')]\n",
    "cols = df_drug_pathway_mod.columns\n",
    "df_drug_pathway_mod[cols[0]] = df_drug_pathway_mod[cols[0]].apply(lambda x:x.lower())\n",
    "df_drug_pathway_mod[cols[1]] = df_drug_pathway_mod[cols[1]].apply(lambda x:x.lower())\n",
    "df_drug_pathway_mod = explode(df_drug_pathway_mod.assign(Pathway=df_drug_pathway_mod.Pathway.str.split(',')),'Pathway')"
   ]
  },
  {
   "cell_type": "code",
   "execution_count": 28,
   "id": "4425dbb7",
   "metadata": {},
   "outputs": [],
   "source": [
    "df_drug_target_ct = df_drug_target_ct.dropna()\n",
    "df_drug_target_mod = df_drug_target_ct[(df_drug_target_ct.Target!='NA')]\n",
    "cols = df_drug_target_mod.columns\n",
    "df_drug_target_mod[cols[0]] = df_drug_target_mod[cols[0]].apply(lambda x:x.lower())\n",
    "df_drug_target_mod = explode(df_drug_target_mod.assign(Target=df_drug_target_mod.Target.str.split(',')),'Target')"
   ]
  },
  {
   "cell_type": "markdown",
   "id": "96ef40a4",
   "metadata": {},
   "source": [
    "### Combine with drug downselection data"
   ]
  },
  {
   "cell_type": "code",
   "execution_count": 9,
   "id": "d1870db1",
   "metadata": {},
   "outputs": [],
   "source": [
    "df_drug_moa_ds = pd.read_csv('drug-action-downselected/drug-MOA.csv')\n",
    "df_drug_target_ds = pd.read_csv('drug-action-downselected/drug-target.csv')\n",
    "df_drug_indication_ds = pd.read_csv('drug-action-downselected/drug-indication.csv')\n",
    "df_drug_pathway_ds = pd.read_csv('drug-action-downselected/drug-pathway.csv')"
   ]
  },
  {
   "cell_type": "code",
   "execution_count": 12,
   "id": "90ae47a9",
   "metadata": {},
   "outputs": [],
   "source": [
    "df_drug_moa = pd.concat([df_drug_moa_ds,df_drug_moa_mod])\n",
    "df_drug_target = pd.concat([df_drug_target_ds,df_drug_target_mod])\n",
    "df_drug_indication = pd.concat([df_drug_indication_ds,df_drug_indication_mod])\n",
    "df_drug_pathway = pd.concat([df_drug_pathway_ds,df_drug_pathway_mod])\n"
   ]
  },
  {
   "cell_type": "markdown",
   "id": "a2b991bd",
   "metadata": {},
   "source": [
    "### Convert to 0-1 relationship matrices "
   ]
  },
  {
   "cell_type": "code",
   "execution_count": 37,
   "id": "00cba567",
   "metadata": {},
   "outputs": [],
   "source": [
    "cols = df_drug_moa.columns\n",
    "df_moa = pd.crosstab(df_drug_moa[cols[0]],df_drug_moa[cols[1]])"
   ]
  },
  {
   "cell_type": "code",
   "execution_count": 30,
   "id": "f0de5097",
   "metadata": {},
   "outputs": [],
   "source": [
    "cols = df_drug_target.columns\n",
    "df_target = pd.crosstab(df_drug_target[cols[0]],df_drug_target[cols[1]])"
   ]
  },
  {
   "cell_type": "code",
   "execution_count": 31,
   "id": "718f1c1e",
   "metadata": {},
   "outputs": [],
   "source": [
    "cols = df_drug_indication.columns\n",
    "df_indication = pd.crosstab(df_drug_indication[cols[0]],df_drug_indication[cols[1]])"
   ]
  },
  {
   "cell_type": "code",
   "execution_count": 32,
   "id": "23268c3b",
   "metadata": {},
   "outputs": [],
   "source": [
    "cols = df_drug_pathway.columns\n",
    "df_pathway = pd.crosstab(df_drug_pathway[cols[0]],df_drug_pathway[cols[1]])"
   ]
  },
  {
   "cell_type": "markdown",
   "id": "931cc7ef",
   "metadata": {},
   "source": [
    "### Save to csv file"
   ]
  },
  {
   "cell_type": "code",
   "execution_count": 33,
   "id": "ae14f39f",
   "metadata": {},
   "outputs": [],
   "source": [
    "#these files create a crosstab with each drug against each MOA. so if the drug reacts in a specific way, that value is 1\n",
    "#else its 0 \n",
    "\n",
    "df_moa.to_csv('df_moa_relationship.csv')\n",
    "df_target.to_csv('df_target_relationship.csv')\n",
    "df_indication.to_csv('df_indication_relationship.csv')\n",
    "df_pathway.to_csv('df_pathway_relationship.csv')"
   ]
  },
  {
   "cell_type": "markdown",
   "id": "54aac6e9",
   "metadata": {},
   "source": [
    "### Preprocess numerical features"
   ]
  },
  {
   "cell_type": "code",
   "execution_count": 41,
   "id": "4ad1a0c2",
   "metadata": {},
   "outputs": [
    {
     "data": {
      "text/plain": [
       "64"
      ]
     },
     "execution_count": 41,
     "metadata": {},
     "output_type": "execute_result"
    }
   ],
   "source": [
    "#64 numerical features about the drug\n",
    "textual_features_file = pd.read_csv(\"all_drug_data_processed.csv\")\n",
    "len(textual_features_file.columns)"
   ]
  },
  {
   "cell_type": "code",
   "execution_count": null,
   "id": "a2cc28e3",
   "metadata": {},
   "outputs": [],
   "source": []
  }
 ],
 "metadata": {
  "kernelspec": {
   "display_name": "Python 3 (ipykernel)",
   "language": "python",
   "name": "python3"
  },
  "language_info": {
   "codemirror_mode": {
    "name": "ipython",
    "version": 3
   },
   "file_extension": ".py",
   "mimetype": "text/x-python",
   "name": "python",
   "nbconvert_exporter": "python",
   "pygments_lexer": "ipython3",
   "version": "3.13.2"
  }
 },
 "nbformat": 4,
 "nbformat_minor": 5
}
